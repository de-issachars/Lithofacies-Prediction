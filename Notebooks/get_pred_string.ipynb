{
  "nbformat": 4,
  "nbformat_minor": 0,
  "metadata": {
    "colab": {
      "name": "get_pred_string.ipynb",
      "provenance": [],
      "collapsed_sections": [],
      "toc_visible": true
    },
    "kernelspec": {
      "name": "python3",
      "display_name": "Python 3"
    },
    "language_info": {
      "name": "python"
    }
  },
  "cells": [
    {
      "cell_type": "code",
      "execution_count": null,
      "metadata": {
        "id": "3jyvXE1852MH"
      },
      "outputs": [],
      "source": [
        "import pickle\n",
        "import pandas as pd\n",
        "import numpy as np\n",
        "\n",
        "# import xgboost as xgb\n",
        "# model2 = xgb.XGBRegressor()\n",
        "# model2.load_model(\"/content/drive/MyDrive/Colab Notebooks/model_lithoPred.json\")\n",
        "loaded_model = pickle.load(open(\"/content/drive/MyDrive/Colab Notebooks/model_lithoPred1.sav\", 'rb'))\n",
        "\n",
        "filepath = \"/content/drive/MyDrive/Colab Notebooks/CSV_test.csv\"\n",
        "    #Encoding Categor\n",
        "def get_prediction(WELL, DEPTH_MD, X_LOC, Y_LOC, Z_LOC, GROUP, FORMATION,\n",
        "       CALI, RMED, RDEP, RHOB, GR, NPHI, PEF,\n",
        "       DTC, SP, BS, ROP, DTS, DRHO,\n",
        "       ROPA):\n",
        "    data = {'WELL':[WELL], 'DEPTH_MD':[DEPTH_MD], 'X_LOC':[X_LOC], 'Y_LOC':[Y_LOC], 'Z_LOC':[Z_LOC], 'GROUP':[GROUP], 'FORMATION':[FORMATION],\n",
        "       'CALI':[CALI] ,'RMED':[RMED], 'RDEP':[RDEP], 'RHOB':[RHOB], 'GR':[GR], 'NPHI':[NPHI], 'PEF':[PEF],\n",
        "       'DTC':[DTC], 'SP':[SP], 'BS':[BS], 'ROP':[ROP], 'DTS':[DTS], 'DRHO':[DRHO],\n",
        "       'ROPA':[ROPA]}\n",
        "    df = pd.DataFrame(data)\n",
        "    # Encoding Categorical Variables\n",
        "    df['GROUP_encoded'] = df['GROUP'].astype('category')\n",
        "    df['GROUP_encoded'] = df['GROUP_encoded'].cat.codes \n",
        "\n",
        "    df['FORMATION_encoded'] = df['FORMATION'].astype('category')\n",
        "    df['FORMATION_encoded'] = df['FORMATION_encoded'].cat.codes\n",
        "\n",
        "    df['WELL_encoded'] = df['WELL'].astype('category')\n",
        "    df['WELL_encoded'] = df['WELL_encoded'].cat.codes\n",
        "    \n",
        "    #FILLING MISSING VALUES\n",
        "    # df = df.fillna(-9999)\n",
        "    \n",
        "    # dropping the previous columns after encoding\n",
        "    df = df.drop(['WELL', \"GROUP\",'FORMATION'], axis=1)\n",
        "    \n",
        "    result = loaded_model.predict(df)\n",
        "    \n",
        "    result_df = pd.DataFrame(result)\n",
        "    \n",
        "    result_df.columns = [\"LithoPred\"]\n",
        "    conditions = [ (result_df['LithoPred'] == 0), (result_df['LithoPred'] == 1), \n",
        "                  (result_df['LithoPred'] == 2),(result_df['LithoPred'] == 3), \n",
        "                  (result_df['LithoPred'] == 4),(result_df['LithoPred'] == 5),\n",
        "                  (result_df['LithoPred'] == 6) , (result_df['LithoPred'] == 7),\n",
        "                    (result_df['LithoPred'] == 8) , (result_df['LithoPred'] == 9),\n",
        "                    (result_df['LithoPred'] == 10),(result_df['LithoPred'] == 11)\n",
        "                    ]\n",
        "    values = ['Sandstone', 'Sandstone/Shale', 'Shale', 'Marl','Dolomite', \n",
        "              'Limestone', 'Chalk', 'Halite','Anhydrite', 'Tuff', 'Coal', 'Basement']\n",
        "    result_df['PredictedFacies'] = np.select(conditions, values)\n",
        "    \n",
        "    return result_df"
      ]
    }
  ]
}